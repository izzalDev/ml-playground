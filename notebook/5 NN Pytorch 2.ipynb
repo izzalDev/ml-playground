{
 "cells": [
  {
   "cell_type": "code",
   "execution_count": 155,
   "metadata": {},
   "outputs": [],
   "source": [
    "# IMPORTER\n",
    "import torch\n",
    "from torch import nn, optim\n",
    "import pandas as pd\n",
    "from sklearn.model_selection import *\n",
    "from sklearn.compose import *\n",
    "from jcopml.pipeline import *\n",
    "from torch.utils.data import *\n",
    "import matplotlib.pyplot as plt\n",
    "from torchmetrics.classification import Accuracy\n",
    "from tqdm.auto import tqdm\n",
    "\n",
    "device = 'mps'"
   ]
  },
  {
   "cell_type": "code",
   "execution_count": 156,
   "metadata": {},
   "outputs": [
    {
     "data": {
      "text/plain": [
       "((614, 7), (614,), (154, 7), (154,))"
      ]
     },
     "execution_count": 156,
     "metadata": {},
     "output_type": "execute_result"
    }
   ],
   "source": [
    "# DATASET\n",
    "df = pd.read_csv('diabetes.csv')\n",
    "df.drop(columns='Insulin', inplace=True)\n",
    "df.Outcome.value_counts()\n",
    "X = df.drop(columns='Outcome')\n",
    "y = df.Outcome\n",
    "\n",
    "X_train, X_test, y_train, y_test = train_test_split(X, y, test_size=0.2, stratify=y, random_state=42)\n",
    "X_train.shape, y_train.shape, X_test.shape, y_test.shape"
   ]
  },
  {
   "cell_type": "code",
   "execution_count": 157,
   "metadata": {},
   "outputs": [],
   "source": [
    "# PREPROCESSING\n",
    "preprocessor = ColumnTransformer([\n",
    "    ('numeric', num_pipe(), X_train.columns)\n",
    "])\n",
    "\n",
    "X_train = preprocessor.fit_transform(X_train)\n",
    "X_test = preprocessor.transform(X_test)"
   ]
  },
  {
   "cell_type": "code",
   "execution_count": 158,
   "metadata": {},
   "outputs": [],
   "source": [
    "# DATASET & DATALOADER\n",
    "\n",
    "X_train = torch.FloatTensor(X_train).to(device)\n",
    "X_test = torch.FloatTensor(X_test).to(device)\n",
    "y_train = torch.FloatTensor(y_train.values).to(device)\n",
    "y_test = torch.FloatTensor(y_test.values).to(device)\n",
    "\n",
    "train_set = TensorDataset(X_train, y_train)\n",
    "test_set = TensorDataset(X_test, y_test)\n",
    "\n",
    "train_loader = DataLoader(train_set, batch_size=32, shuffle=True)\n",
    "test_loader = DataLoader(test_set, batch_size=32)"
   ]
  },
  {
   "cell_type": "code",
   "execution_count": 159,
   "metadata": {},
   "outputs": [
    {
     "data": {
      "text/plain": [
       "Sequential(\n",
       "  (0): Linear(in_features=7, out_features=16, bias=True)\n",
       "  (1): ReLU()\n",
       "  (2): Dropout(p=0.25, inplace=False)\n",
       "  (3): Linear(in_features=16, out_features=8, bias=True)\n",
       "  (4): ReLU()\n",
       "  (5): Dropout(p=0.25, inplace=False)\n",
       "  (6): Linear(in_features=8, out_features=4, bias=True)\n",
       "  (7): ReLU()\n",
       "  (8): Dropout(p=0.25, inplace=False)\n",
       "  (9): Linear(in_features=4, out_features=2, bias=True)\n",
       "  (10): LogSoftmax(dim=1)\n",
       ")"
      ]
     },
     "execution_count": 159,
     "metadata": {},
     "output_type": "execute_result"
    }
   ],
   "source": [
    "# MODELLING\n",
    "\n",
    "model = nn.Sequential(\n",
    "    nn.Linear(7,16),\n",
    "    nn.ReLU(),\n",
    "    nn.Dropout(0.25),\n",
    "    \n",
    "    nn.Linear(16,8),\n",
    "    nn.ReLU(),\n",
    "    nn.Dropout(0.25),\n",
    "    \n",
    "    nn.Linear(8,4),\n",
    "    nn.ReLU(),\n",
    "    nn.Dropout(0.25),\n",
    "    \n",
    "    nn.Linear(4,2),\n",
    "    nn.LogSoftmax(1),\n",
    ").to(device)\n",
    "model"
   ]
  },
  {
   "cell_type": "code",
   "execution_count": 160,
   "metadata": {},
   "outputs": [],
   "source": [
    "# CRITERION\n",
    "\n",
    "criterion = nn.NLLLoss()"
   ]
  },
  {
   "cell_type": "code",
   "execution_count": 161,
   "metadata": {},
   "outputs": [],
   "source": [
    "# OPTIMIZER\n",
    "\n",
    "optimizer = optim.AdamW(model.parameters())"
   ]
  },
  {
   "cell_type": "code",
   "execution_count": 162,
   "metadata": {},
   "outputs": [
    {
     "name": "stdout",
     "output_type": "stream",
     "text": [
      "Epoch: 1000/1000 | train_loss: 0.5273 | val_loss: 0.7379 "
     ]
    }
   ],
   "source": [
    "# TRAINING VAL LOOP\n",
    "\n",
    "epochs = 1000\n",
    "train_loss, test_loss = [], []\n",
    "\n",
    "for epoch in range(epochs):\n",
    "    # TRAIN LOOP\n",
    "    cost = 0\n",
    "    model.train()\n",
    "    for x, y in train_loader:\n",
    "        # 1 feed forward\n",
    "        y_pred = model(x)\n",
    "        \n",
    "        # 2 compute loss\n",
    "        loss = criterion(y_pred, y)\n",
    "        \n",
    "        # 3 backpropagatiion\n",
    "        loss.backward()\n",
    "        \n",
    "        # 3 update weight\n",
    "        optimizer.step()\n",
    "        \n",
    "        # 4 reset optimizer\n",
    "        optimizer.zero_grad()\n",
    "        \n",
    "        # 5 calculate cost\n",
    "        cost += loss.item() * y.shape[0]\n",
    "    train_loss.append(cost/len(train_set))\n",
    "    # VAL LOOP\n",
    "    cost = 0\n",
    "    model.eval()\n",
    "    for x, y in test_loader:\n",
    "        # 1 feed forward\n",
    "        y_pred = model(x)\n",
    "        \n",
    "        # 2 calculate loss\n",
    "        loss = criterion(y_pred, y)\n",
    "        \n",
    "        # 3 calculate cost\n",
    "        cost += loss.item()*x.shape[0]\n",
    "    test_loss.append(cost/len(test_set))\n",
    "    print(f\"\\rEpoch: {epoch+1:4}/{epochs:4} | train_loss: {train_loss[-1]:.4f} | val_loss: {test_loss[-1]:.4f}\", end=\" \")\n",
    "        "
   ]
  },
  {
   "cell_type": "code",
   "execution_count": 163,
   "metadata": {},
   "outputs": [
    {
     "data": {
      "text/plain": [
       "<matplotlib.legend.Legend at 0x30a2ab850>"
      ]
     },
     "execution_count": 163,
     "metadata": {},
     "output_type": "execute_result"
    },
    {
     "data": {
      "image/png": "[encoded data removed]",
      "text/plain": [
       "<Figure size 640x480 with 1 Axes>"
      ]
     },
     "metadata": {},
     "output_type": "display_data"
    }
   ],
   "source": [
    "# PLOT LOSS\n",
    "plt.plot(train_loss, label='train')\n",
    "plt.plot(test_loss, label='val')\n",
    "plt.legend()"
   ]
  },
  {
   "cell_type": "code",
   "execution_count": 164,
   "metadata": {},
   "outputs": [
    {
     "data": {
      "text/plain": [
       "tensor(0.6299, device='mps:0')"
      ]
     },
     "execution_count": 164,
     "metadata": {},
     "output_type": "execute_result"
    }
   ],
   "source": [
    "# CALCULATE ACCURACY\n",
    "y_pred = model(X_test)\n",
    "acc = Accuracy(task='multiclass', num_classes=2).to(device)\n",
    "acc(y_pred, y_test)"
   ]
  },
  {
   "cell_type": "code",
   "execution_count": 165,
   "metadata": {},
   "outputs": [],
   "source": [
    "# SAVE MODEL\n",
    "torch.save(model.state_dict(),'models/weights.pth')\n",
    "log = {\n",
    "    'train_loss': train_loss,\n",
    "    'val_loss': test_loss,\n",
    "}\n",
    "torch.save(log, 'models/logs.pth')"
   ]
  },
  {
   "cell_type": "code",
   "execution_count": 166,
   "metadata": {},
   "outputs": [
    {
     "data": {
      "text/plain": [
       "Sequential(\n",
       "  (0): Linear(in_features=7, out_features=16, bias=True)\n",
       "  (1): ReLU()\n",
       "  (2): Dropout(p=0.25, inplace=False)\n",
       "  (3): Linear(in_features=16, out_features=8, bias=True)\n",
       "  (4): ReLU()\n",
       "  (5): Dropout(p=0.25, inplace=False)\n",
       "  (6): Linear(in_features=8, out_features=4, bias=True)\n",
       "  (7): ReLU()\n",
       "  (8): Dropout(p=0.25, inplace=False)\n",
       "  (9): Linear(in_features=4, out_features=2, bias=True)\n",
       "  (10): LogSoftmax(dim=1)\n",
       ")"
      ]
     },
     "execution_count": 166,
     "metadata": {},
     "output_type": "execute_result"
    }
   ],
   "source": [
    "# LOAD MODEL\n",
    "weights = torch.load('models/weights.pth', map_location='cpu')\n",
    "loaded_model = nn.Sequential(\n",
    "    nn.Linear(7,16),\n",
    "    nn.ReLU(),\n",
    "    nn.Dropout(0.25),\n",
    "    \n",
    "    nn.Linear(16,8),\n",
    "    nn.ReLU(),\n",
    "    nn.Dropout(0.25),\n",
    "    \n",
    "    nn.Linear(8,4),\n",
    "    nn.ReLU(),\n",
    "    nn.Dropout(0.25),\n",
    "    \n",
    "    nn.Linear(4,2),\n",
    "    nn.LogSoftmax(1),\n",
    ")\n",
    "loaded_model.load_state_dict(weights)\n",
    "loaded_model.to(device)"
   ]
  },
  {
   "cell_type": "code",
   "execution_count": 167,
   "metadata": {},
   "outputs": [
    {
     "data": {
      "text/plain": [
       "tensor(0.6299, device='mps:0')"
      ]
     },
     "execution_count": 167,
     "metadata": {},
     "output_type": "execute_result"
    }
   ],
   "source": [
    "# CALCULATE ACCURACY\n",
    "loaded_model.eval()\n",
    "y_pred = loaded_model(X_test)\n",
    "acc = Accuracy(task='multiclass', num_classes=2).to(device)\n",
    "acc(y_pred, y_test)"
   ]
  }
 ],
 "metadata": {
  "kernelspec": {
   "display_name": "Python 3",
   "language": "python",
   "name": "python3"
  },
  "language_info": {
   "codemirror_mode": {
    "name": "ipython",
    "version": 3
   },
   "file_extension": ".py",
   "mimetype": "text/x-python",
   "name": "python",
   "nbconvert_exporter": "python",
   "pygments_lexer": "ipython3",
   "version": "3.9.19"
  }
 },
 "nbformat": 4,
 "nbformat_minor": 2
}
