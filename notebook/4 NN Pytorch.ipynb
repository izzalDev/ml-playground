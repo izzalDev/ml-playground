{
 "cells": [
  {
   "cell_type": "code",
   "execution_count": 77,
   "metadata": {},
   "outputs": [],
   "source": [
    "# IMPORTER\n",
    "import torch\n",
    "import numpy as np\n",
    "from sklearn.model_selection import *\n",
    "from torch.utils.data import *\n",
    "from torch import optim, nn\n",
    "import matplotlib.pyplot as plt"
   ]
  },
  {
   "cell_type": "code",
   "execution_count": 78,
   "metadata": {},
   "outputs": [
    {
     "data": {
      "text/plain": [
       "((400, 4), (100, 4), (400, 3), (100, 3))"
      ]
     },
     "execution_count": 78,
     "metadata": {},
     "output_type": "execute_result"
    }
   ],
   "source": [
    "# SAMPLE DATA\n",
    "X = np.random.rand(500, 4)\n",
    "y = np.random.rand(500, 3)\n",
    "\n",
    "X_train, X_test, y_train, y_test = train_test_split(X, y, test_size=0.2, random_state=42)\n",
    "X_train.shape, X_test.shape, y_train.shape, y_test.shape"
   ]
  },
  {
   "cell_type": "code",
   "execution_count": 79,
   "metadata": {},
   "outputs": [],
   "source": [
    "# DATASET & LOADER\n",
    "\n",
    "X_train = torch.FloatTensor(X_train).to('mps')\n",
    "X_test = torch.FloatTensor(X_test).to('mps')\n",
    "y_train = torch.FloatTensor(y_train).to('mps')\n",
    "y_test = torch.FloatTensor(y_test).to('mps')\n",
    "\n",
    "train_set = TensorDataset(X_train, y_train)\n",
    "test_set = TensorDataset(X_test, y_test)\n",
    "\n",
    "train_loader = DataLoader(train_set, batch_size=32, shuffle=True)\n",
    "test_loader = DataLoader(test_set, batch_size=32)"
   ]
  },
  {
   "cell_type": "code",
   "execution_count": 80,
   "metadata": {},
   "outputs": [
    {
     "data": {
      "text/plain": [
       "Sequential(\n",
       "  (0): Linear(in_features=4, out_features=3, bias=True)\n",
       "  (1): ReLU()\n",
       "  (2): Linear(in_features=3, out_features=4, bias=True)\n",
       "  (3): ReLU()\n",
       "  (4): Linear(in_features=4, out_features=3, bias=True)\n",
       "  (5): Sigmoid()\n",
       ")"
      ]
     },
     "execution_count": 80,
     "metadata": {},
     "output_type": "execute_result"
    }
   ],
   "source": [
    "# MODELING\n",
    "\n",
    "model = nn.Sequential(\n",
    "    nn.Linear(4, 3),\n",
    "    nn.ReLU(),\n",
    "    nn.Linear(3,4),\n",
    "    nn.ReLU(),\n",
    "    nn.Linear(4,3),\n",
    "    nn.Sigmoid(),\n",
    ")\n",
    "\n",
    "model"
   ]
  },
  {
   "cell_type": "code",
   "execution_count": 81,
   "metadata": {},
   "outputs": [],
   "source": [
    "# CRITERION\n",
    "\n",
    "criterion = nn.MSELoss() # for Linear -> regression\n",
    "# criterion = nn.NLLLoss() # for logsoftmax -> multiclass clf\n",
    "# criterion = nn.BCELoss() # for sigmoid -> binary and multilabel clf"
   ]
  },
  {
   "cell_type": "code",
   "execution_count": 82,
   "metadata": {},
   "outputs": [],
   "source": [
    "# OPTIMIZER\n",
    "\n",
    "optimizer = optim.AdamW(model.parameters())"
   ]
  },
  {
   "cell_type": "code",
   "execution_count": 83,
   "metadata": {},
   "outputs": [
    {
     "name": "stdout",
     "output_type": "stream",
     "text": [
      "Epoch: 500/500 | 0.0782 "
     ]
    }
   ],
   "source": [
    "# TRAIN LOOP\n",
    "\n",
    "epochs = 500\n",
    "train_cost = []\n",
    "model.to('mps')\n",
    "model.train()\n",
    "for epoch in range(epochs):\n",
    "    cost = 0\n",
    "    for x, y in train_loader:\n",
    "        # 1 feed forward\n",
    "        y_pred = model(x)\n",
    "        \n",
    "        # 2 compute loss\n",
    "        loss = criterion(y_pred, y)\n",
    "        \n",
    "        # 4 backpropagation\n",
    "        loss.backward()\n",
    "        \n",
    "        # 5 update weight\n",
    "        optimizer.step()\n",
    "        \n",
    "        # 6 reset optimizer\n",
    "        optimizer.zero_grad()\n",
    "        \n",
    "        # 7 Calculate cost\n",
    "        cost += loss.item() * x.shape[0]\n",
    "    train_cost.append(cost/len(train_set))\n",
    "    print(f\"\\rEpoch: {epoch+1}/{epochs} | {train_cost[-1]:.4f}\",end=\" \")\n",
    "        "
   ]
  },
  {
   "cell_type": "code",
   "execution_count": 84,
   "metadata": {},
   "outputs": [
    {
     "data": {
      "text/plain": [
       "[<matplotlib.lines.Line2D at 0x157714790>]"
      ]
     },
     "execution_count": 84,
     "metadata": {},
     "output_type": "execute_result"
    },
    {
     "data": {
      "image/png": "[encoded data removed]",
      "text/plain": [
       "<Figure size 640x480 with 1 Axes>"
      ]
     },
     "metadata": {},
     "output_type": "display_data"
    }
   ],
   "source": [
    "# PLOT COST\n",
    "plt.plot(train_cost)"
   ]
  }
 ],
 "metadata": {
  "kernelspec": {
   "display_name": "vision",
   "language": "python",
   "name": "python3"
  },
  "language_info": {
   "codemirror_mode": {
    "name": "ipython",
    "version": 3
   },
   "file_extension": ".py",
   "mimetype": "text/x-python",
   "name": "python",
   "nbconvert_exporter": "python",
   "pygments_lexer": "ipython3",
   "version": "3.9.19"
  }
 },
 "nbformat": 4,
 "nbformat_minor": 2
}
